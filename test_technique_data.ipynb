{
  "nbformat": 4,
  "nbformat_minor": 0,
  "metadata": {
    "colab": {
      "name": "Test technique data",
      "provenance": [],
      "collapsed_sections": []
    },
    "kernelspec": {
      "name": "python3",
      "display_name": "Python 3"
    }
  },
  "cells": [
    {
      "cell_type": "markdown",
      "metadata": {
        "id": "sHNPzLZITEcK"
      },
      "source": [
        "## 1. Import Librairies and  Load dataset"
      ]
    },
    {
      "cell_type": "code",
      "metadata": {
        "id": "dVBCycPeSm1N"
      },
      "source": [
        "import pandas as pd\n",
        "import numpy as np\n",
        "from geopy.distance import geodesic\n",
        "ticket_data_df = pd.read_csv(\"ticket_data.csv\")\n",
        "cities_df = pd.read_csv(\"cities.csv\")\n",
        "stations_df = pd.read_csv(\"stations.csv\")\n",
        "providers_df = pd.read_csv(\"providers.csv\")"
      ],
      "execution_count": 78,
      "outputs": []
    },
    {
      "cell_type": "markdown",
      "metadata": {
        "id": "gi39vfAzUwRR"
      },
      "source": [
        "## 2. Data cleaning and preparation"
      ]
    },
    {
      "cell_type": "code",
      "metadata": {
        "id": "Woq4WU9QU4il"
      },
      "source": [
        "DATA_FORMAT = '%Y%m%d %H:%M:%S.%f'\n",
        "ticket_data_df = ticket_data_df.replace(np.nan, '', regex=True)\n",
        "cities_df = cities_df.replace(np.nan, '', regex=True)\n",
        "stations_df = stations_df.replace(np.nan, '', regex=True)\n",
        "providers_df = providers_df.replace(np.nan, '', regex=True)\n",
        "\n",
        "ticket_data_df['price_in_cents'] =  ticket_data_df['price_in_cents'] / 100\n",
        "ticket_data_df = ticket_data_df.rename(columns={'price_in_cents': 'prices'})\n",
        "\n",
        "ticket_data_df['departure_ts'] =  pd.to_datetime(ticket_data_df['departure_ts'], format=DATA_FORMAT)\n",
        "ticket_data_df['arrival_ts'] =  pd.to_datetime(ticket_data_df['arrival_ts'], format=DATA_FORMAT)\n",
        "ticket_data_df['search_ts'] =  pd.to_datetime(ticket_data_df['search_ts'], format=DATA_FORMAT)"
      ],
      "execution_count": 79,
      "outputs": []
    },
    {
      "cell_type": "markdown",
      "metadata": {
        "id": "p_ODB5eKXn4V"
      },
      "source": [
        "## 3. Extract essential informations ( MIN , MAX , AVG )"
      ]
    },
    {
      "cell_type": "code",
      "metadata": {
        "id": "RyV3nLNbXs9a",
        "colab": {
          "base_uri": "https://localhost:8080/"
        },
        "outputId": "e3fa355d-8412-4398-9169-1a4eebb8ea48"
      },
      "source": [
        "def get_hours_diff(row):\n",
        "   diff = (row[\"arrival_ts\"]-row[\"departure_ts\"])\n",
        "   return diff\n",
        "# Price MIN, MIN , AVG\n",
        "min_price = ticket_data_df['prices'].min()\n",
        "max_price = ticket_data_df['prices'].max()\n",
        "avg_price = ticket_data_df['prices'].mean()\n",
        "print(\"## PRICE ##\")\n",
        "print(\"The min price by travel is : \"+str(min_price)+\" €\")\n",
        "print(\"The max price by travel is : \"+str(max_price)+\" €\")\n",
        "print(\"The average price by travel is : \"+str(avg_price)+\" €\")\n",
        "print(\"## ENDPRICE ##\\n\")\n",
        "# Duration MIN, MIN , AVG\n",
        "ticket_data_df['duration'] = ticket_data_df.apply(lambda x : x[\"arrival_ts\"]-x[\"departure_ts\"],axis=1)\n",
        "ticket_data_df['duration_in_seconds'] = ticket_data_df.apply(lambda x : x['duration'].total_seconds(),axis=1)\n",
        "min_duration = ticket_data_df['duration'].min()\n",
        "max_duration = ticket_data_df['duration'].max()\n",
        "avg_duration = ticket_data_df['duration'].mean()\n",
        "print(\"## DURATION ##\")\n",
        "print(\"The min duration by travel is : \"+str(min_duration)+\" hours\")\n",
        "print(\"The max duration by travel is : \"+str(max_duration)+\" hours\")\n",
        "print(\"The average duration by travel is : \"+str(avg_duration)+\" hours\")\n",
        "print(\"## ENDDURATION ##\\n\")"
      ],
      "execution_count": 80,
      "outputs": [
        {
          "output_type": "stream",
          "text": [
            "## PRICE ##\n",
            "The min price by travel is : 3.0 €\n",
            "The max price by travel is : 385.5 €\n",
            "The average price by travel is : 43.82711061373479 €\n",
            "## ENDPRICE ##\n",
            "\n",
            "## DURATION ##\n",
            "The min duration by travel is : 0 days 00:20:00 hours\n",
            "The max duration by travel is : 20 days 12:51:00 hours\n",
            "The average duration by travel is : 0 days 07:04:37.247600043 hours\n",
            "## ENDDURATION ##\n",
            "\n"
          ],
          "name": "stdout"
        }
      ]
    },
    {
      "cell_type": "markdown",
      "metadata": {
        "id": "UrNmSg06jnAd"
      },
      "source": [
        "##4. Get information by groups"
      ]
    },
    {
      "cell_type": "code",
      "metadata": {
        "id": "2G4rEfGf8O-z"
      },
      "source": [
        "# Join others dataset , to retreive informations quickly\n",
        "ticket_data_df = pd.merge(ticket_data_df, cities_df[[\"id\",\"latitude\",\"longitude\"]], how='left',\n",
        "                          left_on='o_city', right_on='id', suffixes=('', 'o_city') )\n",
        "\n",
        "del ticket_data_df['ido_city']\n",
        "ticket_data_df = ticket_data_df.rename(columns={'latitude': 'latitude_o_city', 'longitude': 'longitude_o_city'})\n",
        "\n",
        "ticket_data_df = pd.merge(ticket_data_df, cities_df[[\"id\",\"latitude\",\"longitude\"]], how='left',\n",
        "                          left_on='d_city', right_on='id', suffixes=('', 'd_city') )\n",
        "del ticket_data_df['idd_city']\n",
        "ticket_data_df = ticket_data_df.rename(columns={'latitude': 'latitude_d_city', 'longitude': 'longitude_d_city'})\n",
        "\n",
        "ticket_data_df = pd.merge(ticket_data_df, providers_df[[\"id\",\"name\",\"transport_type\"]], how='left',\n",
        "                          left_on='company', right_on='id', suffixes=('', '_'))\n",
        "\n",
        "del ticket_data_df['id_']"
      ],
      "execution_count": 81,
      "outputs": []
    },
    {
      "cell_type": "code",
      "metadata": {
        "id": "_t3T8zn4j7Zn"
      },
      "source": [
        "#compute distancies and difines groups\n",
        "def get_distancies(row):\n",
        "    try:\n",
        "      return geodesic((row[\"latitude_d_city\"],row[\"longitude_d_city\"]),\n",
        "                      (row[\"latitude_o_city\"],row[\"longitude_o_city\"])).km\n",
        "    except:\n",
        "      return 0\n",
        "\n",
        "ticket_data_df['distancies'] = ticket_data_df.apply(get_distancies,axis=1)\n",
        "\n",
        "def set_distancies_group(row):\n",
        "    if row[\"distancies\"] >  2000:\n",
        "      return \"2000+km\"\n",
        "    elif row[\"distancies\"] >  800 and row[\"distancies\"] <=  2000:\n",
        "      return \"800-2000km\"\n",
        "    elif row[\"distancies\"] >=  201 and row[\"distancies\"] <=  800 :\n",
        "      return \"201-800km\"\n",
        "    elif row[\"distancies\"] >=  0 and row[\"distancies\"] <=  200:\n",
        "      return \"0-200km\"\n",
        "\n",
        "ticket_data_df['distancies_groups'] = ticket_data_df.apply(set_distancies_group,axis=1)\n"
      ],
      "execution_count": 82,
      "outputs": []
    },
    {
      "cell_type": "code",
      "metadata": {
        "id": "KUuYcFUlbcKS"
      },
      "source": [
        "#set transport type\n",
        "def get_id_from_string(str) :\n",
        "  return (str.replace('{','').replace('}','')).split(\",\")\n",
        "\n",
        "def get_convoy_by_provider_id(id) :\n",
        "    return (providers_df.loc[providers_df['id'] == int(id)][\"transport_type\"]).tolist()[0]\n",
        "\n",
        "def get_convoy(row):\n",
        "    convoy = row[\"transport_type\"]\n",
        "    if row[\"other_companies\"] :\n",
        "      mid_companies = get_id_from_string(row[\"other_companies\"])\n",
        "      if mid_companies :\n",
        "          for id in mid_companies :\n",
        "              c = get_convoy_by_provider_id(id)\n",
        "              if c not in convoy :\n",
        "                convoy = convoy + \"-\" + c\n",
        "    return convoy\n",
        "  \n",
        "ticket_data_df['convoy'] = ticket_data_df.apply(get_convoy,axis=1)\n"
      ],
      "execution_count": 83,
      "outputs": []
    },
    {
      "cell_type": "code",
      "metadata": {
        "id": "Kgu1-4l6pYU4"
      },
      "source": [
        "d_max = ticket_data_df.groupby([\"distancies_groups\", \"convoy\"])[\"duration_in_seconds\"].max().reset_index()\n",
        "d_max[\"duration\"] = pd.to_timedelta(d_max[\"duration_in_seconds\"], unit='S')\n",
        "#del d_max[\"duration_in_seconds\"]\n",
        "\n",
        "d_min = ticket_data_df.groupby([\"distancies_groups\", \"convoy\"])[\"duration_in_seconds\"].min().reset_index()\n",
        "d_min[\"duration\"] = pd.to_timedelta(d_min[\"duration_in_seconds\"], unit='S')\n",
        "#del d_min[\"duration_in_seconds\"]\n",
        "\n",
        "d_mean = ticket_data_df.groupby([\"distancies_groups\", \"convoy\"])[\"duration_in_seconds\"].mean().reset_index()\n",
        "d_mean[\"duration\"] = pd.to_timedelta(d_mean[\"duration_in_seconds\"], unit='S')\n",
        "#del d_mean[\"duration_in_seconds\"]\n",
        "\n",
        "p_max = ticket_data_df.groupby([\"distancies_groups\", \"convoy\"])[\"prices\"].max().reset_index()\n",
        "p_min = ticket_data_df.groupby([\"distancies_groups\", \"convoy\"])[\"prices\"].min().reset_index()\n",
        "p_mean = ticket_data_df.groupby([\"distancies_groups\", \"convoy\"])[\"prices\"].mean().reset_index()\n"
      ],
      "execution_count": 84,
      "outputs": []
    },
    {
      "cell_type": "code",
      "metadata": {
        "id": "uSsmrTnsN6L5",
        "colab": {
          "base_uri": "https://localhost:8080/"
        },
        "outputId": "0271af0a-7fae-40dc-8a25-0a1c03cfc048"
      },
      "source": [
        "print(\"#price grouped by min,max,mean\")\r\n",
        "print(\"-max\")\r\n",
        "print(p_max)\r\n",
        "print(\"-min\")\r\n",
        "print(p_min)\r\n",
        "print(\"-mean\")\r\n",
        "print(p_mean)\r\n",
        "print(\"#Duration grouped by min,max,mean\")\r\n",
        "print(\"-max\")\r\n",
        "print(d_max)\r\n",
        "print(\"-min\")\r\n",
        "print(d_min)\r\n",
        "print(\"-mean\")\r\n",
        "print(d_mean)\r\n",
        "\r\n",
        "#if needed, we use to_csv() to export dataframe as csv"
      ],
      "execution_count": 85,
      "outputs": [
        {
          "output_type": "stream",
          "text": [
            "#price grouped by min,max,mean\n",
            "-max\n",
            "   distancies_groups      convoy  prices\n",
            "0            0-200km         bus  229.00\n",
            "1            0-200km   bus-train   63.30\n",
            "2            0-200km  carpooling  128.50\n",
            "3            0-200km       train  251.00\n",
            "4            0-200km   train-bus   57.10\n",
            "5          201-800km         bus  145.96\n",
            "6          201-800km   bus-train  224.80\n",
            "7          201-800km  carpooling  138.00\n",
            "8          201-800km       train  385.50\n",
            "9          201-800km   train-bus  164.50\n",
            "10        800-2000km         bus  174.00\n",
            "11        800-2000km  carpooling  161.50\n",
            "12        800-2000km       train  375.50\n",
            "-min\n",
            "   distancies_groups      convoy  prices\n",
            "0            0-200km         bus    8.50\n",
            "1            0-200km   bus-train    9.90\n",
            "2            0-200km  carpooling    3.00\n",
            "3            0-200km       train    4.90\n",
            "4            0-200km   train-bus   15.10\n",
            "5          201-800km         bus   10.00\n",
            "6          201-800km   bus-train   23.50\n",
            "7          201-800km  carpooling    8.50\n",
            "8          201-800km       train   14.00\n",
            "9          201-800km   train-bus   38.00\n",
            "10        800-2000km         bus   22.90\n",
            "11        800-2000km  carpooling   44.96\n",
            "12        800-2000km       train   19.40\n",
            "-mean\n",
            "   distancies_groups      convoy      prices\n",
            "0            0-200km         bus   21.353390\n",
            "1            0-200km   bus-train   31.350847\n",
            "2            0-200km  carpooling   11.773524\n",
            "3            0-200km       train   34.915814\n",
            "4            0-200km   train-bus   32.422222\n",
            "5          201-800km         bus   34.604675\n",
            "6          201-800km   bus-train   81.442727\n",
            "7          201-800km  carpooling   32.311124\n",
            "8          201-800km       train   91.419161\n",
            "9          201-800km   train-bus   73.802597\n",
            "10        800-2000km         bus   69.499500\n",
            "11        800-2000km  carpooling   86.265455\n",
            "12        800-2000km       train  154.637461\n",
            "#Duration grouped by min,max,mean\n",
            "-max\n",
            "   distancies_groups      convoy  duration_in_seconds         duration\n",
            "0            0-200km         bus            1143900.0 13 days 05:45:00\n",
            "1            0-200km   bus-train              94320.0  1 days 02:12:00\n",
            "2            0-200km  carpooling              62400.0  0 days 17:20:00\n",
            "3            0-200km       train             124020.0  1 days 10:27:00\n",
            "4            0-200km   train-bus              44640.0  0 days 12:24:00\n",
            "5          201-800km         bus            1774260.0 20 days 12:51:00\n",
            "6          201-800km   bus-train             123180.0  1 days 10:13:00\n",
            "7          201-800km  carpooling              71400.0  0 days 19:50:00\n",
            "8          201-800km       train             174420.0  2 days 00:27:00\n",
            "9          201-800km   train-bus             112800.0  1 days 07:20:00\n",
            "10        800-2000km         bus            1270800.0 14 days 17:00:00\n",
            "11        800-2000km  carpooling             105000.0  1 days 05:10:00\n",
            "12        800-2000km       train             146220.0  1 days 16:37:00\n",
            "-min\n",
            "   distancies_groups      convoy  duration_in_seconds        duration\n",
            "0            0-200km         bus               5280.0 0 days 01:28:00\n",
            "1            0-200km   bus-train               3900.0 0 days 01:05:00\n",
            "2            0-200km  carpooling               1200.0 0 days 00:20:00\n",
            "3            0-200km       train               2340.0 0 days 00:39:00\n",
            "4            0-200km   train-bus               6000.0 0 days 01:40:00\n",
            "5          201-800km         bus              13500.0 0 days 03:45:00\n",
            "6          201-800km   bus-train               8940.0 0 days 02:29:00\n",
            "7          201-800km  carpooling               4800.0 0 days 01:20:00\n",
            "8          201-800km       train               4080.0 0 days 01:08:00\n",
            "9          201-800km   train-bus              14100.0 0 days 03:55:00\n",
            "10        800-2000km         bus              44100.0 0 days 12:15:00\n",
            "11        800-2000km  carpooling              28200.0 0 days 07:50:00\n",
            "12        800-2000km       train              12780.0 0 days 03:33:00\n",
            "-mean\n",
            "   distancies_groups      convoy  duration_in_seconds                  duration\n",
            "0            0-200km         bus         37545.443787 0 days 10:25:45.443786982\n",
            "1            0-200km   bus-train         22633.220339 0 days 06:17:13.220338983\n",
            "2            0-200km  carpooling          7027.342428 0 days 01:57:07.342427561\n",
            "3            0-200km       train         15959.875156 0 days 04:25:59.875156055\n",
            "4            0-200km   train-bus         12570.000000           0 days 03:29:30\n",
            "5          201-800km         bus         54565.917789 0 days 15:09:25.917788802\n",
            "6          201-800km   bus-train         33932.727273 0 days 09:25:32.727272727\n",
            "7          201-800km  carpooling         17210.371327 0 days 04:46:50.371327091\n",
            "8          201-800km       train         27573.294323 0 days 07:39:33.294322709\n",
            "9          201-800km   train-bus         46580.259740 0 days 12:56:20.259740260\n",
            "10        800-2000km         bus         99130.027248 1 days 03:32:10.027247956\n",
            "11        800-2000km  carpooling         47160.839161 0 days 13:06:00.839160839\n",
            "12        800-2000km       train         43771.021672 0 days 12:09:31.021671827\n"
          ],
          "name": "stdout"
        }
      ]
    }
  ]
}